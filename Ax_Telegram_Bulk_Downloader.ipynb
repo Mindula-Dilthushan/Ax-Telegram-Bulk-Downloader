{
  "nbformat": 4,
  "nbformat_minor": 0,
  "metadata": {
    "colab": {
      "provenance": []
    },
    "kernelspec": {
      "name": "python3",
      "display_name": "Python 3"
    },
    "language_info": {
      "name": "python"
    }
  },
  "cells": [
    {
      "cell_type": "code",
      "execution_count": null,
      "metadata": {
        "id": "1rL2mFuSARzh"
      },
      "outputs": [],
      "source": [
        "!pip install telethon"
      ]
    },
    {
      "cell_type": "code",
      "source": [
        "import os\n",
        "import asyncio\n",
        "import nest_asyncio\n",
        "from datetime import datetime\n",
        "from telethon import TelegramClient\n",
        "\n",
        "nest_asyncio.apply()\n",
        "\n",
        "api_id = '123456789'\n",
        "api_hash = '0987654321'"
      ],
      "metadata": {
        "id": "DJ-Ib_ZcAV71"
      },
      "execution_count": null,
      "outputs": []
    },
    {
      "cell_type": "code",
      "source": [
        "chat = -11111\n",
        "\n",
        "download_folder = \"/content/ax_tele_bulk/\"\n",
        "os.makedirs(download_folder, exist_ok=True)\n",
        "\n",
        "start_date = datetime(2025, 3, 1)\n",
        "end_date = datetime(2025, 3, 7)\n",
        "\n",
        "client = TelegramClient('session_name', api_id, api_hash)\n",
        "\n",
        "async def download_telegram_files():\n",
        "    await client.start()\n",
        "    print(\"✅ Connected to Telegram!\")\n",
        "\n",
        "    try:\n",
        "        messages = await client.get_messages(chat, limit=100)\n",
        "        count = 0\n",
        "\n",
        "        for msg in messages:\n",
        "            if start_date.date() <= msg.date.date() <= end_date.date():\n",
        "                if msg.document:\n",
        "                    file_path = await client.download_media(msg.document, file=download_folder)\n",
        "                    print(f\"Downloaded Document: {file_path}\")\n",
        "                    count += 1\n",
        "                elif msg.photo:\n",
        "                    file_path = await client.download_media(msg.photo, file=download_folder)\n",
        "                    print(f\"📸 Downloaded Image: {file_path}\")\n",
        "                    count += 1\n",
        "\n",
        "        print(f\"✅ All files downloaded! Total: {count}\")\n",
        "\n",
        "    except Exception as e:\n",
        "        print(f\"❌ Error: {e}\")\n",
        "\n",
        "asyncio.get_event_loop().run_until_complete(download_telegram_files())"
      ],
      "metadata": {
        "id": "fhbz8nLlAZA5"
      },
      "execution_count": null,
      "outputs": []
    },
    {
      "cell_type": "markdown",
      "source": [
        "## Create Zip"
      ],
      "metadata": {
        "id": "4aPPQaPmAgch"
      }
    },
    {
      "cell_type": "code",
      "source": [
        "!zip -r ax_tele_bulk.zip /content/ax_tele_bulk/"
      ],
      "metadata": {
        "id": "ezrn4FPHAdcl"
      },
      "execution_count": null,
      "outputs": []
    },
    {
      "cell_type": "markdown",
      "source": [
        "# Zip File Size Check"
      ],
      "metadata": {
        "id": "nIFWX2TmAlrh"
      }
    },
    {
      "cell_type": "code",
      "source": [
        "import os\n",
        "\n",
        "file_path = \"/content/ax_tele_bulk.zip\"\n",
        "file_size = os.path.getsize(file_path)\n",
        "print(f\"File size: {file_size / (1024 * 1024):.2f} MB\")"
      ],
      "metadata": {
        "id": "hxa1p-gTAeyY"
      },
      "execution_count": null,
      "outputs": []
    },
    {
      "cell_type": "markdown",
      "source": [
        "# Remove Folder"
      ],
      "metadata": {
        "id": "qqCUhLEHAo5V"
      }
    },
    {
      "cell_type": "code",
      "source": [
        "import shutil\n",
        "\n",
        "shutil.rmtree(\"/content/ax_tele_bulk\", ignore_errors=True)\n",
        "print(\"Folder deleted successfully!\")"
      ],
      "metadata": {
        "id": "RBG_8VneAf7P"
      },
      "execution_count": null,
      "outputs": []
    }
  ]
}